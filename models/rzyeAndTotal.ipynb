{
 "cells": [
  {
   "cell_type": "code",
   "execution_count": 12,
   "id": "0ddd50f7",
   "metadata": {},
   "outputs": [
    {
     "name": "stderr",
     "output_type": "stream",
     "text": [
      "100%|██████████| 6/6 [00:42<00:00,  7.14s/it]\n",
      "/Users/chenhao/Downloads/Anaconda3/anaconda3/lib/python3.7/site-packages/matplotlib/backends/backend_agg.py:211: RuntimeWarning: Glyph 20363 missing from current font.\n",
      "  font.set_text(s, 0.0, flags=flags)\n",
      "/Users/chenhao/Downloads/Anaconda3/anaconda3/lib/python3.7/site-packages/matplotlib/backends/backend_agg.py:211: RuntimeWarning: Glyph 65288 missing from current font.\n",
      "  font.set_text(s, 0.0, flags=flags)\n",
      "/Users/chenhao/Downloads/Anaconda3/anaconda3/lib/python3.7/site-packages/matplotlib/backends/backend_agg.py:211: RuntimeWarning: Glyph 30334 missing from current font.\n",
      "  font.set_text(s, 0.0, flags=flags)\n",
      "/Users/chenhao/Downloads/Anaconda3/anaconda3/lib/python3.7/site-packages/matplotlib/backends/backend_agg.py:211: RuntimeWarning: Glyph 19975 missing from current font.\n",
      "  font.set_text(s, 0.0, flags=flags)\n",
      "/Users/chenhao/Downloads/Anaconda3/anaconda3/lib/python3.7/site-packages/matplotlib/backends/backend_agg.py:211: RuntimeWarning: Glyph 20493 missing from current font.\n",
      "  font.set_text(s, 0.0, flags=flags)\n",
      "/Users/chenhao/Downloads/Anaconda3/anaconda3/lib/python3.7/site-packages/matplotlib/backends/backend_agg.py:211: RuntimeWarning: Glyph 25918 missing from current font.\n",
      "  font.set_text(s, 0.0, flags=flags)\n",
      "/Users/chenhao/Downloads/Anaconda3/anaconda3/lib/python3.7/site-packages/matplotlib/backends/backend_agg.py:211: RuntimeWarning: Glyph 22823 missing from current font.\n",
      "  font.set_text(s, 0.0, flags=flags)\n",
      "/Users/chenhao/Downloads/Anaconda3/anaconda3/lib/python3.7/site-packages/matplotlib/backends/backend_agg.py:211: RuntimeWarning: Glyph 65289 missing from current font.\n",
      "  font.set_text(s, 0.0, flags=flags)\n",
      "/Users/chenhao/Downloads/Anaconda3/anaconda3/lib/python3.7/site-packages/matplotlib/backends/backend_agg.py:180: RuntimeWarning: Glyph 20363 missing from current font.\n",
      "  font.set_text(s, 0, flags=flags)\n",
      "/Users/chenhao/Downloads/Anaconda3/anaconda3/lib/python3.7/site-packages/matplotlib/backends/backend_agg.py:180: RuntimeWarning: Glyph 65288 missing from current font.\n",
      "  font.set_text(s, 0, flags=flags)\n",
      "/Users/chenhao/Downloads/Anaconda3/anaconda3/lib/python3.7/site-packages/matplotlib/backends/backend_agg.py:180: RuntimeWarning: Glyph 30334 missing from current font.\n",
      "  font.set_text(s, 0, flags=flags)\n",
      "/Users/chenhao/Downloads/Anaconda3/anaconda3/lib/python3.7/site-packages/matplotlib/backends/backend_agg.py:180: RuntimeWarning: Glyph 19975 missing from current font.\n",
      "  font.set_text(s, 0, flags=flags)\n",
      "/Users/chenhao/Downloads/Anaconda3/anaconda3/lib/python3.7/site-packages/matplotlib/backends/backend_agg.py:180: RuntimeWarning: Glyph 20493 missing from current font.\n",
      "  font.set_text(s, 0, flags=flags)\n",
      "/Users/chenhao/Downloads/Anaconda3/anaconda3/lib/python3.7/site-packages/matplotlib/backends/backend_agg.py:180: RuntimeWarning: Glyph 25918 missing from current font.\n",
      "  font.set_text(s, 0, flags=flags)\n",
      "/Users/chenhao/Downloads/Anaconda3/anaconda3/lib/python3.7/site-packages/matplotlib/backends/backend_agg.py:180: RuntimeWarning: Glyph 22823 missing from current font.\n",
      "  font.set_text(s, 0, flags=flags)\n",
      "/Users/chenhao/Downloads/Anaconda3/anaconda3/lib/python3.7/site-packages/matplotlib/backends/backend_agg.py:180: RuntimeWarning: Glyph 65289 missing from current font.\n",
      "  font.set_text(s, 0, flags=flags)\n"
     ]
    },
    {
     "name": "stdout",
     "output_type": "stream",
     "text": [
      "  trade_date          rzye       circ_mv   ratio\n",
      "5 2025-07-30  1.964255e+12  8.659355e+17  2.2684\n",
      "4 2025-07-31  1.964698e+12  8.551648e+17  2.2974\n",
      "3 2025-08-01  1.960040e+12  8.534035e+17  2.2967\n",
      "2 2025-08-04  1.971361e+12  8.529838e+17  2.3111\n",
      "1 2025-08-05  1.980090e+12  8.611262e+17  2.2994\n",
      "0 2025-08-06  0.000000e+00  0.000000e+00     NaN\n"
     ]
    },
    {
     "data": {
      "image/png": "[encoded data removed]",
      "text/plain": [
       "<Figure size 720x360 with 1 Axes>"
      ]
     },
     "metadata": {
      "needs_background": "light"
     },
     "output_type": "display_data"
    }
   ],
   "source": [
    "import tushare as ts\n",
    "import pandas as pd\n",
    "import datetime\n",
    "import time\n",
    "import matplotlib.pyplot as plt\n",
    "from tqdm import tqdm\n",
    "\n",
    "# 设置 token\n",
    "ts.set_token('ea24e41b49e17e308180bdea2ee1e01dae876505975ee8c7ebd279d3')  # 替换为你的实际 Token\n",
    "pro = ts.pro_api()\n",
    "\n",
    "# 近3天范围，取过去7天范围内所有交易日\n",
    "end_date = datetime.datetime.today()\n",
    "start_date = end_date - datetime.timedelta(days=7)\n",
    "start_str = start_date.strftime('%Y%m%d')\n",
    "end_str = end_date.strftime('%Y%m%d')\n",
    "\n",
    "trade_cal = pro.trade_cal(exchange='SSE', start_date=start_str, end_date=end_str)\n",
    "trade_dates = trade_cal[trade_cal['is_open'] == 1]['cal_date'].tolist()\n",
    "\n",
    "results = []\n",
    "\n",
    "for trade_date in tqdm(trade_dates):\n",
    "    try:\n",
    "        margin_sse = pro.margin(trade_date=trade_date, exchange_id='SSE')\n",
    "        margin_szse = pro.margin(trade_date=trade_date, exchange_id='SZSE')\n",
    "        rzye_total = (\n",
    "            (margin_sse['rzye'].sum() if not margin_sse.empty else 0) +\n",
    "            (margin_szse['rzye'].sum() if not margin_szse.empty else 0)\n",
    "        )\n",
    "\n",
    "        daily_mv = pro.daily_basic(trade_date=trade_date, fields='ts_code,circ_mv')\n",
    "        total_circ_mv = daily_mv['circ_mv'].sum() * 1e8 if not daily_mv.empty else 0  # 亿转元\n",
    "\n",
    "        ratio = (rzye_total / total_circ_mv) * 1_000_000 if total_circ_mv > 0 else None  # 百万倍放大\n",
    "\n",
    "        results.append({\n",
    "            'trade_date': trade_date,\n",
    "            'rzye': round(rzye_total, 2),\n",
    "            'circ_mv': round(total_circ_mv, 2),\n",
    "            'ratio': round(ratio, 4) if ratio is not None else None\n",
    "        })\n",
    "\n",
    "        time.sleep(0.4)\n",
    "    except Exception as e:\n",
    "        print(f\"{trade_date} 出错: {e}\")\n",
    "        time.sleep(3)\n",
    "\n",
    "df = pd.DataFrame(results)\n",
    "df['trade_date'] = pd.to_datetime(df['trade_date'])\n",
    "df.sort_values('trade_date', inplace=True)\n",
    "\n",
    "print(df)\n",
    "\n",
    "# 画图\n",
    "plt.figure(figsize=(10, 5))\n",
    "plt.plot(df['trade_date'], df['ratio'], marker='o', linestyle='-', color='b')\n",
    "plt.title('融资余额 / 流通市值 比例（百万倍放大）')\n",
    "plt.xlabel('日期')\n",
    "plt.ylabel('Ratio × 1,000,000')\n",
    "plt.grid(True)\n",
    "plt.tight_layout()\n",
    "plt.show()\n"
   ]
  }
 ],
 "metadata": {
  "kernelspec": {
   "display_name": "base",
   "language": "python",
   "name": "python3"
  },
  "language_info": {
   "codemirror_mode": {
    "name": "ipython",
    "version": 3
   },
   "file_extension": ".py",
   "mimetype": "text/x-python",
   "name": "python",
   "nbconvert_exporter": "python",
   "pygments_lexer": "ipython3",
   "version": "3.7.4"
  }
 },
 "nbformat": 4,
 "nbformat_minor": 5
}
